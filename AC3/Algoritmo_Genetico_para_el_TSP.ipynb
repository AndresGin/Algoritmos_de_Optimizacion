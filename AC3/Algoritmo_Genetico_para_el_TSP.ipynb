{
 "cells": [
  {
   "cell_type": "markdown",
   "metadata": {
    "id": "Yxj429Tk52PN"
   },
   "source": [
    "#Instalación de librerias"
   ]
  },
  {
   "cell_type": "code",
   "execution_count": 1,
   "metadata": {
    "id": "phDZ4-u9GaNq"
   },
   "outputs": [
    {
     "name": "stdout",
     "output_type": "stream",
     "text": [
      "Requirement already satisfied: requests in c:\\users\\ba0100064w\\appdata\\local\\programs\\python\\python311\\lib\\site-packages (2.31.0)\n",
      "Requirement already satisfied: charset-normalizer<4,>=2 in c:\\users\\ba0100064w\\appdata\\local\\programs\\python\\python311\\lib\\site-packages (from requests) (3.3.2)\n",
      "Requirement already satisfied: idna<4,>=2.5 in c:\\users\\ba0100064w\\appdata\\local\\programs\\python\\python311\\lib\\site-packages (from requests) (3.7)\n",
      "Requirement already satisfied: urllib3<3,>=1.21.1 in c:\\users\\ba0100064w\\appdata\\local\\programs\\python\\python311\\lib\\site-packages (from requests) (2.2.1)\n",
      "Requirement already satisfied: certifi>=2017.4.17 in c:\\users\\ba0100064w\\appdata\\local\\programs\\python\\python311\\lib\\site-packages (from requests) (2024.2.2)\n",
      "Requirement already satisfied: tsplib95 in c:\\users\\ba0100064w\\appdata\\local\\programs\\python\\python311\\lib\\site-packages (0.7.1)\n",
      "Requirement already satisfied: Click>=6.0 in c:\\users\\ba0100064w\\appdata\\local\\programs\\python\\python311\\lib\\site-packages (from tsplib95) (8.1.7)\n",
      "Requirement already satisfied: Deprecated~=1.2.9 in c:\\users\\ba0100064w\\appdata\\local\\programs\\python\\python311\\lib\\site-packages (from tsplib95) (1.2.14)\n",
      "Requirement already satisfied: networkx~=2.1 in c:\\users\\ba0100064w\\appdata\\local\\programs\\python\\python311\\lib\\site-packages (from tsplib95) (2.8.8)\n",
      "Requirement already satisfied: tabulate~=0.8.7 in c:\\users\\ba0100064w\\appdata\\local\\programs\\python\\python311\\lib\\site-packages (from tsplib95) (0.8.10)\n",
      "Requirement already satisfied: colorama in c:\\users\\ba0100064w\\appdata\\local\\programs\\python\\python311\\lib\\site-packages (from Click>=6.0->tsplib95) (0.4.6)\n",
      "Requirement already satisfied: wrapt<2,>=1.10 in c:\\users\\ba0100064w\\appdata\\local\\programs\\python\\python311\\lib\\site-packages (from Deprecated~=1.2.9->tsplib95) (1.16.0)\n"
     ]
    }
   ],
   "source": [
    "!pip install requests\n",
    "import urllib.request\n",
    "\n",
    "!pip install tsplib95\n",
    "import tsplib95"
   ]
  },
  {
   "cell_type": "code",
   "execution_count": 2,
   "metadata": {
    "id": "XdoTuK6DZMKb"
   },
   "outputs": [],
   "source": [
    "import random   #Libreria para generar numeros y listas aleatorias\n",
    "import copy     #Permite hacer copias de objetos en python: listas, diccionarios,..."
   ]
  },
  {
   "cell_type": "markdown",
   "metadata": {
    "id": "kLssf0475_rI"
   },
   "source": [
    "#Carga de datos del problema"
   ]
  },
  {
   "cell_type": "code",
   "execution_count": 4,
   "metadata": {
    "colab": {
     "base_uri": "https://localhost:8080/"
    },
    "id": "Z-LCc1iNGrYd",
    "outputId": "04560c60-50d7-466b-a393-3425a2ef5482"
   },
   "outputs": [
    {
     "name": "stderr",
     "output_type": "stream",
     "text": [
      "\"gzip\" no se reconoce como un comando interno o externo,\n",
      "programa o archivo por lotes ejecutable.\n"
     ]
    },
    {
     "ename": "FileNotFoundError",
     "evalue": "[Errno 2] No such file or directory: 'swiss42.tsp'",
     "output_type": "error",
     "traceback": [
      "\u001b[1;31m---------------------------------------------------------------------------\u001b[0m",
      "\u001b[1;31mFileNotFoundError\u001b[0m                         Traceback (most recent call last)",
      "Cell \u001b[1;32mIn[4], line 15\u001b[0m\n\u001b[0;32m     12\u001b[0m get_ipython()\u001b[38;5;241m.\u001b[39msystem(\u001b[38;5;124m'\u001b[39m\u001b[38;5;124mgzip -d swiss42.tsp.gz     #Descomprimir el fichero de datos\u001b[39m\u001b[38;5;124m'\u001b[39m)\n\u001b[0;32m     14\u001b[0m \u001b[38;5;66;03m#Objeto de tsplib95 para nuestro problema problema\u001b[39;00m\n\u001b[1;32m---> 15\u001b[0m problem \u001b[38;5;241m=\u001b[39m \u001b[43mtsplib95\u001b[49m\u001b[38;5;241;43m.\u001b[39;49m\u001b[43mload\u001b[49m\u001b[43m(\u001b[49m\u001b[43mfile\u001b[49m\u001b[43m)\u001b[49m\n\u001b[0;32m     17\u001b[0m \u001b[38;5;66;03m#Nodos\u001b[39;00m\n\u001b[0;32m     18\u001b[0m Nodos \u001b[38;5;241m=\u001b[39m \u001b[38;5;28mlist\u001b[39m(problem\u001b[38;5;241m.\u001b[39mget_nodes())\n",
      "File \u001b[1;32m~\\AppData\\Local\\Programs\\Python\\Python311\\Lib\\site-packages\\tsplib95\\loaders.py:16\u001b[0m, in \u001b[0;36mload\u001b[1;34m(filepath, problem_class, special)\u001b[0m\n\u001b[0;32m      7\u001b[0m \u001b[38;5;28;01mdef\u001b[39;00m \u001b[38;5;21mload\u001b[39m(filepath, problem_class\u001b[38;5;241m=\u001b[39m\u001b[38;5;28;01mNone\u001b[39;00m, special\u001b[38;5;241m=\u001b[39m\u001b[38;5;28;01mNone\u001b[39;00m):\n\u001b[0;32m      8\u001b[0m \u001b[38;5;250m    \u001b[39m\u001b[38;5;124;03m\"\"\"Load a problem at the given filepath.\u001b[39;00m\n\u001b[0;32m      9\u001b[0m \n\u001b[0;32m     10\u001b[0m \u001b[38;5;124;03m    :param str filepath: path to a TSPLIB problem file\u001b[39;00m\n\u001b[1;32m   (...)\u001b[0m\n\u001b[0;32m     14\u001b[0m \u001b[38;5;124;03m    :rtype: :class:`~Problem`\u001b[39;00m\n\u001b[0;32m     15\u001b[0m \u001b[38;5;124;03m    \"\"\"\u001b[39;00m\n\u001b[1;32m---> 16\u001b[0m     \u001b[38;5;28;01mwith\u001b[39;00m \u001b[38;5;28;43mopen\u001b[39;49m\u001b[43m(\u001b[49m\u001b[43mfilepath\u001b[49m\u001b[43m)\u001b[49m \u001b[38;5;28;01mas\u001b[39;00m f:\n\u001b[0;32m     17\u001b[0m         \u001b[38;5;28;01mreturn\u001b[39;00m read(f, special\u001b[38;5;241m=\u001b[39mspecial, problem_class\u001b[38;5;241m=\u001b[39mproblem_class)\n",
      "\u001b[1;31mFileNotFoundError\u001b[0m: [Errno 2] No such file or directory: 'swiss42.tsp'"
     ]
    }
   ],
   "source": [
    "#Librerias y carga del problema\n",
    "\n",
    "#http://elib.zib.de/pub/mp-testdata/tsp/tsplib/\n",
    "#Documentacion :\n",
    "  # https://wwwproxy.iwr.uni-heidelberg.de/groups/comopt/software/TSPLIB95/tsp95.pdf\n",
    "  # https://tsplib95.readthedocs.io/usage.html\n",
    "  # https://tsplib95.readthedocs.io/modules.html#module-tsplib95.models\n",
    "\n",
    "#Matriz de distancias\n",
    "file = \"swiss42.tsp\" ;\n",
    "urllib.request.urlretrieve(\"http://comopt.ifi.uni-heidelberg.de/software/TSPLIB95/tsp/swiss42.tsp.gz\", file + '.gz')\n",
    "!gzip -d swiss42.tsp.gz     #Descomprimir el fichero de datos\n",
    "\n",
    "#Objeto de tsplib95 para nuestro problema problema\n",
    "problem = tsplib95.load(file)\n",
    "\n",
    "#Nodos\n",
    "Nodos = list(problem.get_nodes())\n",
    "\n",
    "#Aristas\n",
    "Aristas = list(problem.get_edges())\n",
    "print(Aristas)\n",
    "\n",
    "#Coordenadas(si estan disponibles en el ficher)\n",
    "problem.get_display(1)\n",
    "\n",
    "#Distancia\n",
    "problem.get_weight(1, 2)\n",
    "\n"
   ]
  },
  {
   "cell_type": "markdown",
   "metadata": {
    "id": "0-LUsodG6GeF"
   },
   "source": [
    "#Funciones de la Actividad Guiada 3"
   ]
  },
  {
   "cell_type": "code",
   "execution_count": null,
   "metadata": {
    "id": "dbuLencrYqr6"
   },
   "outputs": [],
   "source": [
    "#Funciones de la Actividad Guiada 3\n",
    "#Se genera una solucion aleatoria con comienzo en en el nodo 0\n",
    "def crear_solucion(Nodos):\n",
    "  solucion = [Nodos[0]]\n",
    "  for n in Nodos[1:] :\n",
    "    solucion = solucion + [random.choice(list(set(Nodos) - set(solucion)))]\n",
    "  return solucion\n",
    "\n",
    "#Devuelve la distancia entre dos nodos\n",
    "def distancia(a,b, problem):\n",
    "  return problem.get_weight(a,b)\n",
    "\n",
    "\n",
    "#Devuelve la distancia total de una trayectoria/solucion\n",
    "def distancia_total(solucion, problem):\n",
    "  distancia_total = 0\n",
    "  for i in range(len(solucion)-1):\n",
    "    distancia_total += distancia(solucion[i] ,solucion[i+1] ,  problem)\n",
    "  return distancia_total + distancia(solucion[len(solucion)-1] ,solucion[0], problem)"
   ]
  },
  {
   "cell_type": "code",
   "execution_count": null,
   "metadata": {
    "id": "1_s96GmB5zeJ"
   },
   "outputs": [],
   "source": []
  },
  {
   "cell_type": "markdown",
   "metadata": {
    "id": "wkvlwphG6OW1"
   },
   "source": [
    "#Funciones Auxiliares"
   ]
  },
  {
   "cell_type": "code",
   "execution_count": null,
   "metadata": {
    "id": "c9LuGRUEGbCr"
   },
   "outputs": [],
   "source": [
    "#Genera una poblacion inicial de soluciones de tamaño N.\n",
    "# Puede ser válida la solución aleatoria de la AG3: crear_solucion(Nodos)\n",
    "def generar_poblacion(Nodos,N):\n",
    "  #"
   ]
  },
  {
   "cell_type": "code",
   "execution_count": null,
   "metadata": {
    "id": "1D9qFX2Y5lLX"
   },
   "outputs": [],
   "source": [
    "#Evalua la población y devuelve el mejor individuo\n",
    "def Evaluar_Poblacion(poblacion, problem):\n",
    "  #..."
   ]
  },
  {
   "cell_type": "code",
   "execution_count": null,
   "metadata": {
    "id": "0zfUXHhX5ot_"
   },
   "outputs": [],
   "source": [
    "#Funcion de cruce. Recibe una poblacion(lista de soluciones) y devuelve la población ampliada con los hijos.\n",
    "# Todos los individuos de la población son selecionados para el cruce(si la población es par)\n",
    "# Podría aplicarse un proceso previo de selección para elegir los individuos que se desea cruzar.\n",
    "def Cruzar(poblacion,mutacion, problem):\n",
    "  #..."
   ]
  },
  {
   "cell_type": "code",
   "execution_count": null,
   "metadata": {
    "id": "FScC0U2Q5p5y"
   },
   "outputs": [],
   "source": [
    "#Funcion para generar hijos a partir de 2 padres:\n",
    "# Se elige el metodo de 1-punto de corte pero es posible usar otros n-puntos, uniforme, dependiendo del problema\n",
    "def Descendencia(padres, problem,mutacion):\n",
    "  #..."
   ]
  },
  {
   "cell_type": "code",
   "execution_count": null,
   "metadata": {
    "id": "z2lGOBf_5rHk"
   },
   "outputs": [],
   "source": [
    "#Para el operador de cruce 1-punto los hijos generados no son soluciones(algunos nodos se repiten y otros no están)\n",
    "def Factibilizar(solucion,problem):\n",
    "  #..."
   ]
  },
  {
   "cell_type": "code",
   "execution_count": null,
   "metadata": {
    "id": "x2h7JsMx5smh"
   },
   "outputs": [],
   "source": [
    "#Funcion de mutación. Se eligen dos nodos y se intercambia. Se podrian añadir otros operaradores\n",
    "# Se hace mutaciones mutacion% de las veces\n",
    "def Mutar(solucion,mutacion):\n",
    "  #"
   ]
  },
  {
   "cell_type": "code",
   "execution_count": null,
   "metadata": {
    "id": "OSRy0pv55t66"
   },
   "outputs": [],
   "source": [
    "#Funcion de seleccion de la población. Recibe como parametro una poblacion y\n",
    "# devuelve una poblacion a la que se ha eliminado individuos poco aptos(fitness alto) y para mantener una poblacion estable de N individuos\n",
    "#Se tiene en cuenta el porcentaje elitismo pasado como parametro\n",
    "# Para los individuos que no son de la elite podríamos usar una selección de ruleta(proporcional a su fitness)\n",
    "def Seleccionar(problem,poblacion, N, elitismo):\n"
   ]
  },
  {
   "cell_type": "code",
   "execution_count": null,
   "metadata": {
    "id": "nosmZJHI5neg"
   },
   "outputs": [],
   "source": []
  },
  {
   "cell_type": "markdown",
   "metadata": {
    "id": "yqn0_W586TdG"
   },
   "source": [
    "#Proceso Principal"
   ]
  },
  {
   "cell_type": "code",
   "execution_count": null,
   "metadata": {
    "id": "sf0yskEwA8_l"
   },
   "outputs": [],
   "source": [
    "#Funcion principal del algoritmo genetico\n",
    "#######################################################3\n",
    "def algoritmo_genetico(problem=problem,N=100,mutacion=.15,elitismo=.1,generaciones=100):\n",
    "  # problem = datos del problema\n",
    "  # N = Tamaño de la población\n",
    "  # mutacion = probabilidad de una mutación\n",
    "  # elitismo = porcion de la mejor poblacion a mantener\n",
    "  # generaciones = nº de generaciones a generar para finalizar\n",
    "\n",
    "  #Genera la poblacion inicial\n",
    "  Nodos = list(problem.get_nodes())\n",
    "  poblacion = generar_poblacion(Nodos,N)\n",
    "\n",
    "  #Inicializamos valores para la mejor solucion\n",
    "  (mejor_solucion, mejor_distancia) = Evaluar_Poblacion(poblacion, problem)\n",
    "\n",
    "\n",
    "  #Condicion de parada\n",
    "  parar = False\n",
    "  n=0\n",
    "  #Inciamos el cliclo de generaciones\n",
    "  while(parar == False) :\n",
    "\n",
    "    #Cruce de la poblacion(incluye mutación)\n",
    "    poblacion = Cruzar(poblacion, mutacion, problem)\n",
    "\n",
    "    #Seleccionamos la población\n",
    "    poblacion = Seleccionar(problem,poblacion, N, elitismo)\n",
    "\n",
    "    #Evaluamos la nueva población\n",
    "    (mejor_solucion, mejor_distancia) = Evaluar_Poblacion(poblacion, problem)\n",
    "\n",
    "    print(\"Generacion #\", n, \"\\nLa mejor solución es:\" , mejor_solucion, \"\\ncon distancia \" , mejor_distancia, \"\\n\")\n",
    "\n",
    "    #Numero de generaciones. Criterio de parada\n",
    "    if n==generaciones:\n",
    "      parar = True\n",
    "    n +=1\n",
    "\n",
    "  return mejor_solucion\n",
    "\n",
    "\n",
    "sol = algoritmo_genetico(problem=problem,N=500,mutacion=.3,elitismo=.40,generaciones=250)"
   ]
  }
 ],
 "metadata": {
  "colab": {
   "provenance": []
  },
  "kernelspec": {
   "display_name": "Python 3 (ipykernel)",
   "language": "python",
   "name": "python3"
  },
  "language_info": {
   "codemirror_mode": {
    "name": "ipython",
    "version": 3
   },
   "file_extension": ".py",
   "mimetype": "text/x-python",
   "name": "python",
   "nbconvert_exporter": "python",
   "pygments_lexer": "ipython3",
   "version": "3.11.9"
  }
 },
 "nbformat": 4,
 "nbformat_minor": 4
}
