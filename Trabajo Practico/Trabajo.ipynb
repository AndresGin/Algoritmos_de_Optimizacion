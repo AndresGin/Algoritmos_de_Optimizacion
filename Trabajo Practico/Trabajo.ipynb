{
 "cells": [
  {
   "cell_type": "markdown",
   "metadata": {
    "id": "hVbXYX-RfPWh"
   },
   "source": [
    "# Algoritmos de optimización - Seminario<br>\n",
    "JOHNNY ANDRES ILLESCAS FERNANDEZ <br>\n",
    "Url: https://github.com/AndresGin/Algoritmosdeoptimizacion.git<br>\n",
    "Problema:\n",
    "\n",
    "## Combinar cifras y operaciones\n",
    "\n",
    "El problema consiste en analizar el siguiente problema y diseñar un algoritmo que lo resuelva.\n",
    "\n",
    "- Disponemos de las 9 cifras del 1 al 9 (excluimos el cero) y de los 4 signos básicos de las operaciones fundamentales: suma(+), resta(-), multiplicación(*) y división(/)\n",
    "- Debemos combinarlos alternativamente sin repetir ninguno de ellos para obtener una cantidad dada. Un ejemplo sería para obtener el 4: 4+2-6/3*1 = 4\n",
    "\n",
    "Debe analizarse el problema para encontrar todos los valores enteros posibles planteando las siguientes cuestiones:\n",
    "\n",
    "- ¿Qué valor máximo y mínimo se pueden obtener según las condiciones del problema?\n",
    "- ¿Es posible encontrar todos los valores enteros posibles entre dicho mínimo y máximo ?\n",
    "-  Nota: Es posible usar la función de python “eval” para evaluar una expresión:\n",
    "\n",
    "\n",
    "                                        "
   ]
  },
  {
   "cell_type": "markdown",
   "metadata": {
    "id": "WfCUqJyKhPcw"
   },
   "source": [
    "## ¿Qué valor máximo y mínimo se pueden obtener según las condiciones del problema?"
   ]
  },
  {
   "cell_type": "markdown",
   "metadata": {
    "id": "WfCUqJyKhPcw"
   },
   "source": [
    "Para abordar este problema, debemos considerar todas las posibles permutaciones de los números del 1 al 9 y combinarlas con los signos de operación alternando operaciones y números. Además, debemos tener en cuenta las reglas de prioridad de las operaciones matemáticas (multiplicación y división antes de suma y resta) y que no se pueden repetir números ni signos de operación.\n",
    "\n",
    "\n",
    "* Permutaciones de Números:\n",
    "\n",
    "Generar todas las permutaciones posibles de los números del 1 al 9.\n",
    "\n",
    "* Permutaciones de Operaciones:\n",
    "\n",
    "Generar todas las combinaciones posibles de los cuatro signos de operaciones (sin repetición).\n",
    "\n",
    "* Construcción de Expresiones:\n",
    "\n",
    "Combinar cada permutación de números con cada permutación de operaciones, respetando la alternancia (número-operación-número).\n",
    "\n",
    "* Evaluación de Expresiones:\n",
    "\n",
    "Evaluar cada expresión respetando la precedencia de las operaciones.\n",
    "Registrar los valores obtenidos para determinar el mínimo y el máximo.\n",
    "\n",
    "### Implementación\n",
    "\n",
    "Debido a la gran cantidad de combinaciones posibles, es recomendable utilizar un enfoque programático para evaluar todas las posibilidades. A continuación, se presenta una implementación en Python para encontrar los valores mínimo y máximo:"
   ]
  },
  {
   "cell_type": "code",
   "execution_count": 3,
   "metadata": {
    "id": "WfCUqJyKhPcw"
   },
   "outputs": [],
   "source": [
    "# NLibrerias y colecciones\n",
    "import itertools\n",
    "import random\n",
    "import math\n",
    "from functools import lru_cache"
   ]
  },
  {
   "cell_type": "code",
   "execution_count": 4,
   "metadata": {
    "id": "iq6Fe32MgpDX"
   },
   "outputs": [
    {
     "name": "stdout",
     "output_type": "stream",
     "text": [
      "Valor Minimo:  -69\n",
      "Valor Maximo:  77\n"
     ]
    }
   ],
   "source": [
    "# Números del 1 al 9\n",
    "numeros = [1, 2, 3, 4, 5, 6, 7, 8, 9]\n",
    "\n",
    "# Operaciones básicas\n",
    "operaciones = ['+', '-', '*', '/']\n",
    "\n",
    "# Generar todas las permutaciones de los números y operaciones\n",
    "permutaciones_numeros = list(itertools.permutations(numeros))\n",
    "permutaciones_operaciones = list(itertools.permutations(operaciones, 4))\n",
    "\n",
    "# Función para evaluar una expresión dada\n",
    "def evaluar_expresion(numeros, operaciones):\n",
    "    expresion = \"\"\n",
    "    for i in range(len(operaciones)):\n",
    "        expresion += str(numeros[i]) + operaciones[i]\n",
    "    expresion += str(numeros[-1])\n",
    "    try:\n",
    "        return eval(expresion)\n",
    "    except ZeroDivisionError:\n",
    "        return None\n",
    "\n",
    "# Encontrar el valor mínimo y máximo\n",
    "valores = []\n",
    "for perm_numeros in permutaciones_numeros:\n",
    "    for perm_operaciones in permutaciones_operaciones:\n",
    "        valor = evaluar_expresion(perm_numeros, perm_operaciones)\n",
    "        if valor is not None and valor == int(valor):\n",
    "            valores.append(int(valor))\n",
    "\n",
    "valor_minimo = min(valores)\n",
    "valor_maximo = max(valores)\n",
    "\n",
    "print(\"Valor Minimo: \", valor_minimo)\n",
    "print(\"Valor Maximo: \",valor_maximo)"
   ]
  },
  {
   "cell_type": "markdown",
   "metadata": {
    "id": "WfCUqJyKhPcw"
   },
   "source": [
    "## ¿Es posible encontrar todos los valores enteros posibles entre dicho mínimo y máximo ?"
   ]
  },
  {
   "cell_type": "markdown",
   "metadata": {
    "id": "WfCUqJyKhPcw"
   },
   "source": [
    "* Explicación del Código\n",
    "\n",
    "Importar itertools: Se importa itertools para generar permutaciones.\n",
    "\n",
    "Definir números y operaciones: Se definen los números del 1 al 9 y las operaciones básicas.\n",
    "\n",
    "Generar permutaciones: Se generan todas las permutaciones posibles de números y operaciones.\n",
    "\n",
    "Evaluar expresiones: Se construyen y evalúan expresiones para cada combinación de permutaciones de números y operaciones.\n",
    "\n",
    "Filtrar y almacenar valores enteros: Se almacenan en un conjunto los valores que son enteros para evitar duplicados.\n",
    "\n",
    "Ordenar y mostrar los valores enteros: Se ordenan los valores enteros obtenidos y se muestran en pantalla."
   ]
  },
  {
   "cell_type": "code",
   "execution_count": 5,
   "metadata": {
    "id": "WfCUqJyKhPcw"
   },
   "outputs": [
    {
     "name": "stdout",
     "output_type": "stream",
     "text": [
      "Todos los valores enteros posibles obtenidos son:\n",
      "-69, -68, -67, -66, -65, -64, -63, -62, -61, -60, -59, -58, -57, -56, -55, -54, -53, -52, -51, -50, -49, -48, -47, -46, -45, -44, -43, -42, -41, -40, -39, -38, -37, -36, -35, -34, -33, -32, -31, -30, -29, -28, -27, -26, -25, -24, -23, -22, -21, -20, -19, -18, -17, -16, -15, -14, -13, -12, -11, -10, -9, -8, -7, -6, -5, -4, -3, -2, -1, 0, 1, 2, 3, 4, 5, 6, 7, 8, 9, 10, 11, 12, 13, 14, 15, 16, 17, 18, 19, 20, 21, 22, 23, 24, 25, 26, 27, 28, 29, 30, 31, 32, 33, 34, 35, 36, 37, 38, 39, 40, 41, 42, 43, 44, 45, 46, 47, 48, 49, 50, 51, 52, 53, 54, 55, 56, 57, 58, 59, 60, 61, 62, 63, 64, 65, 66, 67, 68, 69, 70, 71, 72, 73, 74, 75, 76, 77\n",
      "Conteo total de valores únicos: 147\n"
     ]
    }
   ],
   "source": [
    "# Números del 1 al 9\n",
    "numeros = [1, 2, 3, 4, 5, 6, 7, 8, 9]\n",
    "\n",
    "# Operaciones básicas\n",
    "operaciones = ['+', '-', '*', '/']\n",
    "\n",
    "# Generar todas las permutaciones de los números y operaciones\n",
    "permutaciones_numeros = list(itertools.permutations(numeros))\n",
    "permutaciones_operaciones = list(itertools.permutations(operaciones, 4))\n",
    "\n",
    "# Función para evaluar una expresión dada\n",
    "def evaluar_expresion(numeros, operaciones):\n",
    "    expresion = \"\"\n",
    "    for i in range(len(operaciones)):\n",
    "        expresion += str(numeros[i]) + operaciones[i]\n",
    "    expresion += str(numeros[-1])\n",
    "    try:\n",
    "        return eval(expresion)\n",
    "    except ZeroDivisionError:\n",
    "        return None\n",
    "\n",
    "# Encontrar todos los valores enteros posibles\n",
    "valores = set()\n",
    "for perm_numeros in permutaciones_numeros:\n",
    "    for perm_operaciones in permutaciones_operaciones:\n",
    "        valor = evaluar_expresion(perm_numeros, perm_operaciones)\n",
    "        if valor is not None and valor == int(valor):\n",
    "            valores.add(int(valor))\n",
    "\n",
    "# Mostrar todos los valores enteros obtenidos\n",
    "valores_ordenados = sorted(valores)\n",
    "print(\"Todos los valores enteros posibles obtenidos son:\")\n",
    "print(\", \".join(map(str, valores_ordenados)))\n",
    "# Mostrar el conteo total de valores únicos\n",
    "print(\"Conteo total de valores únicos:\", len(valores))\n"
   ]
  },
  {
   "cell_type": "markdown",
   "metadata": {
    "id": "3_-exlrTgLd-"
   },
   "source": [
    "##  ¿Cuantas posibilidades hay sin tener en cuenta las restricciones?\n",
    "\n",
    "Si consideramos que hay 5 posiciones para números y 4 posiciones para operaciones, sin la restricción de que los números y operaciones sean diferentes, el cálculo sería:\n",
    "Para calcular el número total de posibilidades sin tener en cuenta las restricciones (es decir, permitiendo la repetición de números y operaciones), se debe considerar lo siguiente:\n",
    "\n",
    "Tenemos 9 posiciones para números.\n",
    "\n",
    "Tenemos 8 posiciones para operaciones (entre los 9 números).\n",
    "\n",
    "Dado que hay 4 posibles operaciones para cada una de las 8 posiciones y 9 posibles números para cada una de las 9 posiciones, el número total de combinaciones posibles es:\n",
    "\n",
    "combinaciones_numeros = 9**9\n",
    "\n",
    "combinaciones_operaciones = 4**8\n",
    "\n"
   ]
  },
  {
   "cell_type": "code",
   "execution_count": 6,
   "metadata": {},
   "outputs": [
    {
     "data": {
      "text/plain": [
       "25389989167104"
      ]
     },
     "execution_count": 6,
     "metadata": {},
     "output_type": "execute_result"
    }
   ],
   "source": [
    "# Calcular el número total de combinaciones posibles\n",
    "combinaciones_numeros = 9**9\n",
    "combinaciones_operaciones = 4**8\n",
    "\n",
    "total_combinaciones = combinaciones_numeros * combinaciones_operaciones\n",
    "total_combinaciones"
   ]
  },
  {
   "cell_type": "markdown",
   "metadata": {
    "id": "WfCUqJyKhPcw"
   },
   "source": [
    "## ¿Cuantas posibilidades hay teniendo en cuenta todas las restricciones?"
   ]
  },
  {
   "cell_type": "code",
   "execution_count": 7,
   "metadata": {
    "id": "WfCUqJyKhPcw"
   },
   "outputs": [
    {
     "name": "stdout",
     "output_type": "stream",
     "text": [
      "Conteo total de valores únicos: 147\n"
     ]
    }
   ],
   "source": [
    "'''Mostrar el conteo total de valores únicos '''\n",
    "\n",
    "print(\"Conteo total de valores únicos:\", len(valores))"
   ]
  },
  {
   "cell_type": "markdown",
   "metadata": {
    "id": "dzynfVJahHoY"
   },
   "source": [
    "## Modelo para el espacio de soluciones\n",
    "\n",
    "#### ¿Cual es la estructura de datos que mejor se adapta al problema? Argumentalo.(Es posible que hayas elegido una al principio y veas la necesidad de cambiar, arguentalo)\n"
   ]
  },
  {
   "cell_type": "markdown",
   "metadata": {
    "id": "38c-7-ejhJmA"
   },
   "source": [
    "- Análisis del espacio de soluciones:\n",
    "\n",
    "Cifras:\n",
    "\n",
    "Disponemos de 9 cifras: 1, 2, 3, 4, 5, 6, 7, 8, y 9.\n",
    "Operaciones: Disponemos de 4 operaciones básicas: suma (+), resta (-), multiplicación (*) y división (/), que deben usarse de manera alterna y sin repetir.\n",
    "\n",
    "Condición de uso alternado: \n",
    "\n",
    "Las cifras y las operaciones se deben alternar de tal forma que no se repitan las operaciones entre sí y se combinen con los números.\n",
    "\n",
    "\n",
    "- Generación de combinaciones:\n",
    "\n",
    "Podemos generar todas las permutaciones de los números y las operaciones disponibles, asegurándonos de cumplir con la restricción de alternancia. Una opción sería usar las funciones de permutación de Python, que generarían todas las combinaciones posibles de números y operaciones.\n",
    "\n",
    "Una vez generadas las combinaciones, podemos evaluar las expresiones usando eval para calcular los resultados.\n",
    "\n",
    "- Evaluación de las expresiones:\n",
    "\n",
    "Usaremos la funciónes en Python para calcular el valor de cada combinación generada.\n",
    "Es necesario manejar posibles excepciones como divisiones por cero, que invalidarían algunas combinaciones.\n",
    "\n",
    "- Valor máximo y mínimo:\n",
    "\n",
    "Al evaluar todas las combinaciones, podemos guardar los valores obtenidos.\n",
    "El valor máximo será el mayor de estos resultados, mientras que el mínimo será el menor.\n",
    "\n",
    "- Determinación de todos los enteros posibles:\n",
    "\n",
    "Una vez encontrados los valores máximo y mínimo, debemos verificar si es posible obtener todos los enteros entre esos límites.\n",
    "Esto implica que debemos registrar todos los resultados y comprobar si todos los números enteros en ese intervalo pueden obtenerse con alguna combinación."
   ]
  },
  {
   "cell_type": "code",
   "execution_count": 23,
   "metadata": {
    "id": "xFIJrOwKi2Ti"
   },
   "outputs": [],
   "source": [
    "# Función para evaluar las expresiones\n",
    "def evaluar_expresiones(expresiones):\n",
    "    resultados = set()  # Usamos un set para evitar duplicados\n",
    "    for expresion in expresiones:\n",
    "        try:\n",
    "            resultado = eval(expresion)\n",
    "            # Solo guardamos si es un número entero\n",
    "            if isinstance(resultado, int):\n",
    "                resultados.add(resultado)\n",
    "        except ZeroDivisionError:\n",
    "            # Ignorar las expresiones con división por cero\n",
    "            continue\n",
    "    return resultados"
   ]
  },
  {
   "cell_type": "markdown",
   "metadata": {
    "id": "7Z9U2W7bi-XS"
   },
   "source": [
    "## Según el modelo para el espacio de soluciones\n",
    "\n",
    "#### ¿Cual es la función objetivo?\n",
    "\n",
    "\n",
    "Dado que el objetivo del problema es encontrar todos los valores enteros posibles, así como determinar el valor máximo y el valor mínimo obtenibles, podemos descomponer la función objetivo en dos enfoques:\n",
    "\n",
    "- Función objetivo de evaluación de expresiones:\n",
    "\n",
    "En cada combinación de números y operaciones, la función objetivo sería:\n",
    "\n",
    "f(números, operadores) = eval(expresión)\n",
    "\n",
    "\n",
    "\n",
    "\n",
    "Donde la expresión alterna números y operadores. El uso de la función eval() en Python actúa como la función objetivo que evalúa cada combinación de números y operaciones para obtener un valor final.\n",
    "\n",
    "- Función objetivo global del problema:\n",
    "\n",
    "El objetivo general es:\n",
    "\n",
    "Encontrar el valor máximo y el valor mínimo dentro del conjunto de todos los resultados obtenidos al evaluar las combinaciones posibles.\n",
    "Determinar si se pueden generar todos los valores enteros entre el valor mínimo y el valor máximo.\n",
    "Entonces, la función objetivo se podría definir como maximizar y minimizar los resultados obtenidos mediante la evaluación de las combinaciones\n",
    "\n",
    "#### ¿Es un problema de maximización o minimización?\n",
    "\n",
    "\n",
    "Este problema no se plantea exclusivamente como un problema de maximización o minimización en el sentido clásico. Más bien, el problema es exploratorio y tiene dos objetivos principales:\n",
    "\n",
    "Encontrar el valor máximo y mínimo: Una parte del problema implica encontrar los valores máximo y mínimo posibles que se pueden obtener a partir de las combinaciones de los números del 1 al 9 y las operaciones básicas (+, -, *, /). Este componente tiene aspectos tanto de maximización como de minimización, pero no es un problema de optimización clásico, ya que no se busca optimizar una sola función objetivo, sino explorar todas las combinaciones posibles.\n",
    "\n",
    "Verificar si todos los valores enteros entre el máximo y el mínimo son obtenibles: Esta parte del problema es más una cuestión de completitud o cobertura de valores enteros entre el mínimo y el máximo obtenidos.\n",
    "\n",
    "Respuesta:\n",
    "Aunque la tarea implica encontrar un valor máximo y un valor mínimo, no es propiamente un problema de maximización en el sentido estricto de la optimización. Es más un problema de búsqueda exhaustiva de soluciones en un espacio finito, con el objetivo de identificar límites y cobertura de soluciones posibles.\n"
   ]
  },
  {
   "cell_type": "code",
   "execution_count": 11,
   "metadata": {
    "id": "hBalWLM7j1_d"
   },
   "outputs": [
    {
     "name": "stdout",
     "output_type": "stream",
     "text": [
      "Valor Maximo:  77\n"
     ]
    }
   ],
   "source": [
    "# Encontrar el valor máximo\n",
    "valores = []\n",
    "for perm_numeros in permutaciones_numeros:\n",
    "    for perm_operaciones in permutaciones_operaciones:\n",
    "        valor = evaluar_expresion(perm_numeros, perm_operaciones)\n",
    "        if valor is not None and valor == int(valor):\n",
    "            valores.append(int(valor))\n",
    "\n",
    "valor_maximo = max(valores)\n",
    "\n",
    "print(\"Valor Maximo: \", valor_maximo)"
   ]
  },
  {
   "cell_type": "markdown",
   "metadata": {
    "id": "rlnTYgY1j6I2"
   },
   "source": [
    "## Diseña un algoritmo para resolver el problema por fuerza bruta"
   ]
  },
  {
   "cell_type": "markdown",
   "metadata": {
    "id": "70rDgxYXkC8r"
   },
   "source": [
    "Respuesta"
   ]
  },
  {
   "cell_type": "markdown",
   "metadata": {
    "id": "70rDgxYXkC8r"
   },
   "source": [
    "* Combinaciones posibles de 5 números seleccionados del conjunto {1, 2, 3, 4, 5, 6, 7, 8, 9}\n",
    "* Todas las permutaciones posibles de las 4 operaciones básicas {+, -, *, /}.\n",
    "* Luego, evaluamos todas las expresiones posibles y almacenamos los resultados enteros únicos."
   ]
  },
  {
   "cell_type": "code",
   "execution_count": 24,
   "metadata": {
    "id": "CJb5sQ0qkENy"
   },
   "outputs": [
    {
     "name": "stdout",
     "output_type": "stream",
     "text": [
      "Todos los valores enteros posibles obtenidos son:\n",
      "-69, -68, -67, -66, -65, -64, -63, -62, -61, -60, -59, -58, -57, -56, -55, -54, -53, -52, -51, -50, -49, -48, -47, -46, -45, -44, -43, -42, -41, -40, -39, -38, -37, -36, -35, -34, -33, -32, -31, -30, -29, -28, -27, -26, -25, -24, -23, -22, -21, -20, -19, -18, -17, -16, -15, -14, -13, -12, -11, -10, -9, -8, -7, -6, -5, -4, -3, -2, -1, 0, 1, 2, 3, 4, 5, 6, 7, 8, 9, 10, 11, 12, 13, 14, 15, 16, 17, 18, 19, 20, 21, 22, 23, 24, 25, 26, 27, 28, 29, 30, 31, 32, 33, 34, 35, 36, 37, 38, 39, 40, 41, 42, 43, 44, 45, 46, 47, 48, 49, 50, 51, 52, 53, 54, 55, 56, 57, 58, 59, 60, 61, 62, 63, 64, 65, 66, 67, 68, 69, 70, 71, 72, 73, 74, 75, 76, 77\n",
      "Conteo total de valores únicos: 147\n"
     ]
    }
   ],
   "source": [
    "# Números del 1 al 9\n",
    "numeros = [1, 2, 3, 4, 5, 6, 7, 8, 9]\n",
    "\n",
    "# Operaciones básicas\n",
    "operaciones = ['+', '-', '*', '/']\n",
    "\n",
    "# Generar todas las permutaciones de 5 números de 9\n",
    "permutaciones_numeros = list(itertools.permutations(numeros, 5))\n",
    "\n",
    "# Generar todas las permutaciones de las 4 operaciones\n",
    "permutaciones_operaciones = list(itertools.permutations(operaciones, 4))\n",
    "\n",
    "# Función para evaluar una expresión dada\n",
    "def evaluar_expresion(numeros, operaciones):\n",
    "    expresion = \"\"\n",
    "    for i in range(len(operaciones)):\n",
    "        expresion += str(numeros[i]) + operaciones[i]\n",
    "    expresion += str(numeros[-1])\n",
    "    try:\n",
    "        return eval(expresion)\n",
    "    except ZeroDivisionError:\n",
    "        return None\n",
    "\n",
    "# Encontrar todos los valores enteros posibles\n",
    "valores = set()  # Usamos un conjunto para almacenar resultados únicos\n",
    "for perm_numeros in permutaciones_numeros:\n",
    "    for perm_operaciones in permutaciones_operaciones:\n",
    "        valor = evaluar_expresion(perm_numeros, perm_operaciones)\n",
    "        if valor is not None and valor == int(valor):\n",
    "            valores.add(int(valor))  # Agregar valor al conjunto\n",
    "\n",
    "# Mostrar todos los valores enteros obtenidos\n",
    "valores_ordenados = sorted(valores)\n",
    "print(\"Todos los valores enteros posibles obtenidos son:\")\n",
    "print(\", \".join(map(str, valores_ordenados)))\n",
    "\n",
    "# Mostrar el conteo total de valores únicos\n",
    "print(\"Conteo total de valores únicos:\", len(valores))\n"
   ]
  },
  {
   "cell_type": "markdown",
   "metadata": {
    "id": "tgrnsC2nkFa8"
   },
   "source": [
    "## Calcula la complejidad del algoritmo por fuerza bruta"
   ]
  },
  {
   "cell_type": "markdown",
   "metadata": {
    "id": "9eUd3xwckP68"
   },
   "source": [
    "Respuesta"
   ]
  },
  {
   "cell_type": "markdown",
   "metadata": {
    "id": "rvZWwL-ckRST"
   },
   "source": [
    "### Cálculo de la Complejidad del Algoritmo por Fuerza Bruta\n",
    "\n",
    "El cálculo de la complejidad por fuerza bruta implica evaluar el número total de combinaciones posibles que deben explorarse y calcular el costo computacional de evaluar cada una de estas combinaciones. En este caso, estamos trabajando con combinaciones de números y operadores, por lo que el cálculo de la complejidad se basa en las siguientes variables:\n",
    "\n",
    "- Cifras disponibles (números):\n",
    "\n",
    "Tienes las cifras del 1 al 9.\n",
    "El número de permutaciones de estas cifras es:\n",
    "\n",
    "Permutaciones = 9!\n",
    "\n",
    "- Operadores disponibles:\n",
    "Tienes 4 operadores (+, -, *, /), y necesitas 8 operadores para rellenar los espacios entre los 9 números.\n",
    "El número de permutaciones de los operadores (teniendo en cuenta que puedes repetir operadores) es:\n",
    "\n",
    "Permutaciones de los operadores = 𝑃(4,8)=8!(8−4)!=8!=Resultado\n",
    "\n",
    "\n",
    "- Combinaciones totales:\n",
    "El número total de combinaciones posibles de números y operadores sería el producto del número de permutaciones de los números y de los operadores:\n",
    "\n",
    "Combinaciones totales=9!×P(4,8)\n",
    "\n",
    "- Complejidad temporal:\n",
    "\n",
    "Si asumimos que evaluar cada combinación de cifras y operadores toma un tiempo constante, la complejidad temporal total del algoritmo de fuerza bruta es proporcional al número de combinaciones\n",
    "\n",
    "- Complejidad espacial:\n",
    "\n",
    "La complejidad espacial del algoritmo dependerá de la cantidad de combinaciones que se almacenen a lo largo del proceso. Si almacenamos todas las combinaciones generadas (en lugar de evaluarlas y descartarlas inmediatamente), la complejidad espacial sería similar a la complejidad temporal.\n"
   ]
  },
  {
   "cell_type": "code",
   "execution_count": 13,
   "metadata": {
    "id": "hLrVwt5QkZPD"
   },
   "outputs": [
    {
     "name": "stdout",
     "output_type": "stream",
     "text": [
      "Permutaciones de números (9P5): 15120\n",
      "Permutaciones de operaciones (4!): 24\n",
      "Número total de combinaciones: 362880\n"
     ]
    }
   ],
   "source": [
    "# Cálculo de las permutaciones de 5 números seleccionados de 9\n",
    "P_numeros = math.perm(9, 5)\n",
    "\n",
    "# Cálculo de las permutaciones de 4 operaciones\n",
    "P_operaciones = math.perm(4, 4)\n",
    "\n",
    "# Número total de combinaciones\n",
    "total_combinaciones = P_numeros * P_operaciones\n",
    "\n",
    "# Mostrar resultados\n",
    "print(\"Permutaciones de números (9P5):\", P_numeros)\n",
    "print(\"Permutaciones de operaciones (4!):\", P_operaciones)\n",
    "print(\"Número total de combinaciones:\", total_combinaciones)\n",
    "\n",
    "# Verificar si es el mismo resultado calculado anteriormente\n",
    "assert total_combinaciones == 362880, \"El cálculo no coincide con el resultado esperado.\""
   ]
  },
  {
   "cell_type": "markdown",
   "metadata": {
    "id": "txbrmLmskReM"
   },
   "source": [
    "## Diseña un algoritmo que mejore la complejidad del algortimo por fuerza bruta. Argumenta porque crees que mejora el algoritmo por fuerza bruta"
   ]
  },
  {
   "cell_type": "markdown",
   "metadata": {
    "id": "hLrVwt5QkZPD"
   },
   "source": [
    "Respuesta"
   ]
  },
  {
   "cell_type": "markdown",
   "metadata": {
    "id": "m1eyM21Vkabg"
   },
   "source": [
    "Para mejorar la complejidad del algoritmo por fuerza bruta, podemos utilizar técnicas de programación dinámica o poda (pruning) para reducir el espacio de búsqueda. \n",
    "Tenemos a continuacion un enfoque basado en la poda del espacio de búsqueda y el uso de un almacenamiento intermedio para resultados parciales, lo que puede mejorar la eficiencia.\n",
    "\n",
    "La idea principal es reducir el número de combinaciones evaluadas mediante el uso de poda y almacenamiento intermedio de resultados parciales. Esto evita evaluaciones redundantes y reduce el espacio de búsqueda.\n",
    "\n",
    "Almacenamiento Intermedio (Memoización): Almacenar resultados parciales de subexpresiones para evitar recalcular resultados que ya se han evaluado.\n",
    "\n",
    "Poda (Pruning): Abandonar evaluaciones de subexpresiones que no pueden llevar a resultados válidos. Por ejemplo, si una subexpresión resulta en un número no entero o negativo (si solo buscamos positivos), se puede descartar.\n",
    "\n",
    "Algoritmo Mejorado\n",
    "\n",
    "Generar Combinaciones de Números y Operaciones: Usar una generación iterativa en lugar de permutaciones completas para poder aplicar poda.\n",
    "\n",
    "Evaluar Expresiones con Memoización: Utilizar un diccionario para almacenar y reutilizar resultados de subexpresiones.\n",
    "\n",
    "Poda del Espacio de Búsqueda: Abandonar ramas del espacio de búsqueda que no pueden llevar a soluciones válidas.\n"
   ]
  },
  {
   "cell_type": "code",
   "execution_count": 14,
   "metadata": {
    "id": "NhpTh_BPk1ms"
   },
   "outputs": [
    {
     "name": "stdout",
     "output_type": "stream",
     "text": [
      "Todos los valores enteros posibles obtenidos son:\n",
      "-69, -68, -67, -66, -65, -64, -63, -62, -61, -60, -59, -58, -57, -56, -55, -54, -53, -52, -51, -50, -49, -48, -47, -46, -45, -44, -43, -42, -41, -40, -39, -38, -37, -36, -35, -34, -33, -32, -31, -30, -29, -28, -27, -26, -25, -24, -23, -22, -21, -20, -19, -18, -17, -16, -15, -14, -13, -12, -11, -10, -9, -8, -7, -6, -5, -4, -3, -2, -1, 0, 1, 2, 3, 4, 5, 6, 7, 8, 9, 10, 11, 12, 13, 14, 15, 16, 17, 18, 19, 20, 21, 22, 23, 24, 25, 26, 27, 28, 29, 30, 31, 32, 33, 34, 35, 36, 37, 38, 39, 40, 41, 42, 43, 44, 45, 46, 47, 48, 49, 50, 51, 52, 53, 54, 55, 56, 57, 58, 59, 60, 61, 62, 63, 64, 65, 66, 67, 68, 69, 70, 71, 72, 73, 74, 75, 76, 77\n",
      "Conteo total de valores únicos: 147\n"
     ]
    }
   ],
   "source": [
    "\n",
    "# Números del 1 al 9\n",
    "numeros = [1, 2, 3, 4, 5, 6, 7, 8, 9]\n",
    "\n",
    "# Operaciones básicas\n",
    "operaciones = ['+', '-', '*', '/']\n",
    "\n",
    "# Generar todas las combinaciones de 5 números de 9\n",
    "combinaciones_numeros = list(itertools.combinations(numeros, 5))\n",
    "\n",
    "# Evaluar la expresión con memoización\n",
    "@lru_cache(None)\n",
    "def evaluar_expresion(numeros, operaciones):\n",
    "    expresion = \"\"\n",
    "    for i in range(len(operaciones)):\n",
    "        expresion += str(numeros[i]) + operaciones[i]\n",
    "    expresion += str(numeros[-1])\n",
    "    try:\n",
    "        resultado = eval(expresion)\n",
    "        if resultado == int(resultado):  # Solo consideramos resultados enteros\n",
    "            return int(resultado)\n",
    "    except ZeroDivisionError:\n",
    "        pass\n",
    "    return None\n",
    "\n",
    "# Encontrar todos los valores enteros posibles con poda\n",
    "valores = set()\n",
    "for comb_numeros in combinaciones_numeros:\n",
    "    for perm_numeros in itertools.permutations(comb_numeros):\n",
    "        for perm_operaciones in itertools.permutations(operaciones):\n",
    "            valor = evaluar_expresion(perm_numeros, perm_operaciones)\n",
    "            if valor is not None:\n",
    "                valores.add(valor)\n",
    "\n",
    "# Mostrar todos los valores enteros obtenidos\n",
    "valores_ordenados = sorted(valores)\n",
    "print(\"Todos los valores enteros posibles obtenidos son:\")\n",
    "print(\", \".join(map(str, valores_ordenados)))\n",
    "\n",
    "# Mostrar el conteo total de valores únicos\n",
    "print(\"Conteo total de valores únicos:\", len(valores))\n"
   ]
  },
  {
   "cell_type": "markdown",
   "metadata": {
    "id": "eGDB4K6uk1iN"
   },
   "source": [
    "## Calcula la complejidad del algoritmo"
   ]
  },
  {
   "cell_type": "markdown",
   "metadata": {
    "id": "NhpTh_BPk1ms"
   },
   "source": [
    "Respuesta"
   ]
  },
  {
   "cell_type": "markdown",
   "metadata": {
    "id": "nREzhkStlCq8"
   },
   "source": [
    "* Complejidad Total\n",
    "\n",
    "Para cada combinación de números y permutaciones de operaciones, la evaluación de la expresión se realiza una vez, gracias a la memoización. Así que la complejidad total es:\n",
    "\n",
    "O=(Combinaciones de Numeros×Permutaciones de Numeros×Permutaciones de Operaciones)\n",
    "\n",
    "O=(126×120×24)\n",
    "\n",
    "#### O = 362880\n",
    "\n",
    "Sin embargo, debido a la poda, la cantidad real de evaluaciones puede ser menor. La poda evita algunas evaluaciones, pero no cambia el orden de la complejidad en el peor de los casos. Entonces, en el peor de los casos, la complejidad sigue siendo \n",
    "\n",
    "O(362880)\n",
    "\n",
    "\n",
    "* Comparación con la Fuerza Bruta\n",
    "\n",
    "La complejidad del algoritmo de fuerza bruta también es \n",
    "\n",
    "O(362880)\n",
    "\n",
    "Pero el algoritmo mejorado es más eficiente en la práctica debido a la poda y memoización.\n",
    "\n",
    "La poda reduce el espacio de búsqueda al eliminar combinaciones no válidas tempranamente.\n",
    "\n",
    "La memoización evita recalcular resultados para subexpresiones, reduciendo el tiempo total de evaluación."
   ]
  },
  {
   "cell_type": "code",
   "execution_count": 15,
   "metadata": {
    "id": "Jc3_OlyNkvjZ"
   },
   "outputs": [
    {
     "name": "stdout",
     "output_type": "stream",
     "text": [
      "Permutaciones de números (9P5): 15120\n",
      "Permutaciones de operaciones (4!): 24\n",
      "Número total de combinaciones: 362880\n"
     ]
    }
   ],
   "source": [
    "# Cálculo de las permutaciones de 5 números seleccionados de 9\n",
    "def permutaciones_numeros(n, k):\n",
    "    return math.factorial(n) // math.factorial(n - k)\n",
    "\n",
    "# Cálculo de las permutaciones de 4 operaciones\n",
    "def permutaciones_operaciones(n):\n",
    "    return math.factorial(n)\n",
    "\n",
    "# Valores para el problema\n",
    "n_numeros = 9\n",
    "k_numeros = 5\n",
    "n_operaciones = 4\n",
    "\n",
    "# Cálculo de las permutaciones\n",
    "P_numeros = permutaciones_numeros(n_numeros, k_numeros)\n",
    "P_operaciones = permutaciones_operaciones(n_operaciones)\n",
    "\n",
    "# Número total de combinaciones\n",
    "total_combinaciones = P_numeros * P_operaciones\n",
    "\n",
    "# Mostrar resultados\n",
    "print(f\"Permutaciones de números (9P5): {P_numeros}\")\n",
    "print(f\"Permutaciones de operaciones (4!): {P_operaciones}\")\n",
    "print(f\"Número total de combinaciones: {total_combinaciones}\")"
   ]
  },
  {
   "cell_type": "markdown",
   "metadata": {
    "id": "3M6QjTsSkmYe"
   },
   "source": [
    "## Según el problema (y tenga sentido), diseña un juego de datos de entrada aleatorios"
   ]
  },
  {
   "cell_type": "markdown",
   "metadata": {
    "id": "Jc3_OlyNkvjZ"
   },
   "source": [
    "Respuesta"
   ]
  },
  {
   "cell_type": "code",
   "execution_count": 16,
   "metadata": {
    "id": "sJ-N2etjkyWc"
   },
   "outputs": [
    {
     "name": "stdout",
     "output_type": "stream",
     "text": [
      "Juego de datos 1: Números = [5, 6, 1, 4, 9], Operaciones = ['/', '*', '-', '+']\n",
      "Juego de datos 2: Números = [9, 4, 6, 3, 5], Operaciones = ['+', '-', '*', '/']\n",
      "Juego de datos 3: Números = [1, 2, 4, 6, 9], Operaciones = ['/', '-', '*', '+']\n",
      "Juego de datos 4: Números = [2, 1, 3, 7, 6], Operaciones = ['+', '/', '-', '*']\n",
      "Juego de datos 5: Números = [8, 7, 2, 6, 1], Operaciones = ['-', '*', '+', '/']\n",
      "Juego de datos 6: Números = [5, 2, 1, 4, 7], Operaciones = ['/', '+', '-', '*']\n",
      "Juego de datos 7: Números = [9, 1, 8, 7, 5], Operaciones = ['-', '*', '+', '/']\n",
      "Juego de datos 8: Números = [2, 7, 4, 8, 3], Operaciones = ['-', '/', '*', '+']\n",
      "Juego de datos 9: Números = [3, 4, 2, 9, 8], Operaciones = ['*', '+', '/', '-']\n",
      "Juego de datos 10: Números = [6, 3, 9, 8, 5], Operaciones = ['+', '*', '-', '/']\n"
     ]
    }
   ],
   "source": [
    "# Números del 1 al 9\n",
    "numeros = [1, 2, 3, 4, 5, 6, 7, 8, 9]\n",
    "\n",
    "# Operaciones básicas\n",
    "operaciones = ['+', '-', '*', '/']\n",
    "\n",
    "# Función para generar una combinación aleatoria de 5 números y 4 operaciones\n",
    "def generar_datos_aleatorios():\n",
    "    numeros_seleccionados = random.sample(numeros, 5)\n",
    "    operaciones_seleccionadas = random.sample(operaciones, 4)\n",
    "    return numeros_seleccionados, operaciones_seleccionadas\n",
    "\n",
    "# Generar datos de entrada aleatorios\n",
    "datos_aleatorios = [generar_datos_aleatorios() for _ in range(10)]\n",
    "\n",
    "# Mostrar los datos generados\n",
    "for i, (nums, ops) in enumerate(datos_aleatorios):\n",
    "    print(f\"Juego de datos {i+1}: Números = {nums}, Operaciones = {ops}\")\n"
   ]
  },
  {
   "cell_type": "markdown",
   "metadata": {
    "id": "zy5ZROmjlGo1"
   },
   "source": [
    "## Aplica el algoritmo al juego de datos generado"
   ]
  },
  {
   "cell_type": "markdown",
   "metadata": {
    "id": "_Cmj-PVylMsa"
   },
   "source": [
    "Respuesta"
   ]
  },
  {
   "cell_type": "code",
   "execution_count": 17,
   "metadata": {
    "id": "Jkx8GeiYlUz1"
   },
   "outputs": [
    {
     "name": "stdout",
     "output_type": "stream",
     "text": [
      "Juego de datos 1: Números = [2, 5, 4, 9, 8], Operaciones = ['*', '+', '/', '-']\n",
      "Juego de datos 2: Números = [1, 6, 5, 4, 2], Operaciones = ['*', '/', '-', '+']\n",
      "Juego de datos 3: Números = [6, 2, 9, 3, 7], Operaciones = ['/', '*', '+', '-']\n",
      "Juego de datos 4: Números = [7, 9, 6, 3, 1], Operaciones = ['+', '-', '/', '*']\n",
      "Juego de datos 5: Números = [9, 8, 1, 2, 3], Operaciones = ['-', '*', '+', '/']\n",
      "Juego de datos 6: Números = [6, 9, 3, 5, 8], Operaciones = ['/', '-', '+', '*']\n",
      "Juego de datos 7: Números = [5, 9, 7, 4, 8], Operaciones = ['/', '+', '-', '*']\n",
      "Juego de datos 8: Números = [5, 1, 4, 2, 9], Operaciones = ['*', '+', '-', '/']\n",
      "Juego de datos 9: Números = [4, 7, 8, 9, 6], Operaciones = ['/', '+', '-', '*']\n",
      "Juego de datos 10: Números = [1, 6, 7, 8, 3], Operaciones = ['+', '-', '/', '*']\n",
      "\n",
      "Resultados para el juego de datos 1:\n",
      "-65, -41, -37, -35, -29, -27, -11, -7, -5, -3, -2, 0, 1, 3, 5, 7, 8, 9, 10, 11, 12, 13, 15, 17, 20, 21, 25, 33, 35, 37, 39, 45, 47, 51, 69, 75\n",
      "Conteo total de valores únicos: 36\n",
      "\n",
      "Resultados para el juego de datos 2:\n",
      "-27, -24, -17, -16, -12, -10, -6, -3, -1, 0, 1, 2, 3, 4, 5, 6, 7, 8, 9, 11, 12, 13, 15, 16, 18, 21, 22, 24, 27, 28, 29, 31, 32\n",
      "Conteo total de valores únicos: 33\n",
      "\n",
      "Resultados para el juego de datos 3:\n",
      "-59, -57, -37, -17, -13, -9, -5, -3, -2, -1, 2, 3, 5, 6, 7, 8, 11, 12, 13, 15, 16, 17, 21, 23, 25, 27, 31, 41, 43, 63\n",
      "Conteo total de valores únicos: 30\n",
      "\n",
      "Resultados para el juego de datos 4:\n",
      "-60, -54, -44, -38, -30, -14, -10, -6, -4, -2, 0, 2, 4, 6, 8, 10, 12, 14, 16, 18, 20, 22, 24, 26, 28, 36, 40, 44, 48, 50, 58, 60, 62, 64, 66\n",
      "Conteo total de valores únicos: 35\n",
      "\n",
      "Resultados para el juego de datos 5:\n",
      "-67, -32, -22, -21, -17, -13, -12, -7, -4, -3, -2, -1, 3, 4, 5, 7, 8, 9, 10, 11, 13, 14, 17, 18, 20, 21, 22, 23, 24, 25, 30, 31, 33, 34, 38, 71, 73\n",
      "Conteo total de valores únicos: 37\n",
      "\n",
      "Resultados para el juego de datos 6:\n",
      "-65, -40, -35, -31, -29, -19, -13, -5, -4, -2, -1, 0, 5, 7, 8, 9, 10, 11, 12, 13, 14, 15, 17, 20, 21, 23, 25, 33, 35, 37, 39, 43, 46, 47, 50, 51, 69, 75\n",
      "Conteo total de valores únicos: 38\n",
      "\n",
      "Resultados para el juego de datos 7:\n",
      "-56, -36, -24, -6, 0, 6, 8, 10, 12, 16, 18, 20, 28, 40, 42, 50, 60, 66\n",
      "Conteo total de valores únicos: 18\n",
      "\n",
      "Resultados para el juego de datos 8:\n",
      "-42, -39, -29, -12, -9, -2, 0, 2, 3, 4, 5, 6, 12, 13, 14, 15, 17, 18, 19, 22, 27, 33, 39, 43, 44, 46, 47\n",
      "Conteo total de valores únicos: 27\n",
      "\n",
      "Resultados para el juego de datos 9:\n",
      "-55, -45, -31, -5, -1, 1, 4, 5, 7, 9, 10, 11, 13, 14, 15, 17, 19, 35, 49, 59, 67\n",
      "Conteo total de valores únicos: 21\n",
      "\n",
      "Resultados para el juego de datos 10:\n",
      "-53, -47, -38, -31, -11, -8, -7, -5, -3, -2, 1, 3, 4, 7, 10, 13, 17, 19, 21, 22, 23, 25, 37, 44, 47, 52, 53, 55, 57, 59\n",
      "Conteo total de valores únicos: 30\n"
     ]
    }
   ],
   "source": [
    "import random\n",
    "import itertools\n",
    "from functools import lru_cache\n",
    "\n",
    "# Números del 1 al 9\n",
    "numeros = [1, 2, 3, 4, 5, 6, 7, 8, 9]\n",
    "\n",
    "# Operaciones básicas\n",
    "operaciones = ['+', '-', '*', '/']\n",
    "\n",
    "# Función para generar una combinación aleatoria de 5 números y 4 operaciones\n",
    "def generar_datos_aleatorios():\n",
    "    numeros_seleccionados = random.sample(numeros, 5)\n",
    "    operaciones_seleccionadas = random.sample(operaciones, 4)\n",
    "    return numeros_seleccionados, operaciones_seleccionadas\n",
    "\n",
    "# Generar datos de entrada aleatorios\n",
    "datos_aleatorios = [generar_datos_aleatorios() for _ in range(10)]\n",
    "\n",
    "# Mostrar los datos generados\n",
    "for i, (nums, ops) in enumerate(datos_aleatorios):\n",
    "    print(f\"Juego de datos {i+1}: Números = {nums}, Operaciones = {ops}\")\n",
    "\n",
    "# Evaluar la expresión con memoización\n",
    "@lru_cache(None)\n",
    "def evaluar_expresion(numeros, operaciones):\n",
    "    expresion = \"\"\n",
    "    for i in range(len(operaciones)):\n",
    "        expresion += str(numeros[i]) + operaciones[i]\n",
    "    expresion += str(numeros[-1])\n",
    "    try:\n",
    "        resultado = eval(expresion)\n",
    "        if resultado == int(resultado):  # Solo consideramos resultados enteros\n",
    "            return int(resultado)\n",
    "    except ZeroDivisionError:\n",
    "        pass\n",
    "    return None\n",
    "\n",
    "# Aplicar el algoritmo mejorado a cada conjunto de datos generados\n",
    "for i, (nums, ops) in enumerate(datos_aleatorios):\n",
    "    valores = set()\n",
    "    for perm_numeros in itertools.permutations(nums):\n",
    "        for perm_operaciones in itertools.permutations(ops):\n",
    "            valor = evaluar_expresion(perm_numeros, perm_operaciones)\n",
    "            if valor is not None:\n",
    "                valores.add(valor)\n",
    "    \n",
    "    # Mostrar todos los valores enteros obtenidos\n",
    "    valores_ordenados = sorted(valores)\n",
    "    print(f\"\\nResultados para el juego de datos {i+1}:\")\n",
    "    print(\", \".join(map(str, valores_ordenados)))\n",
    "    print(\"Conteo total de valores únicos:\", len(valores))\n"
   ]
  },
  {
   "cell_type": "markdown",
   "metadata": {
    "id": "eTFWUJQrtGcv"
   },
   "source": [
    "## Enumera las referencias que has utilizado(si ha sido necesario) para llevar a cabo el trabajo"
   ]
  },
  {
   "cell_type": "markdown",
   "metadata": {
    "id": "YKQ_mRBttWsP"
   },
   "source": [
    "Respuesta\n",
    "\n",
    "https://docs.python.org/3/library/itertools.html\n",
    "\n",
    "https://www.geeksforgeeks.org/python-functools-lru_cache/"
   ]
  },
  {
   "cell_type": "markdown",
   "metadata": {
    "id": "kAkDPUyRtYyH"
   },
   "source": [
    "## Describe brevemente las lineas de como crees que es posible avanzar en el estudio del problema. Ten en cuenta incluso posibles variaciones del problema y/o variaciones al alza del tamaño"
   ]
  },
  {
   "cell_type": "markdown",
   "metadata": {
    "id": "IE0uZmo-tZu-"
   },
   "source": [
    "Respuesta"
   ]
  },
  {
   "cell_type": "markdown",
   "metadata": {},
   "source": [
    "Considero que se deben tene en cuenta losmsiguientes facores\n",
    "\n",
    "1.\tEvaluación Exhaustiva: Utilizar el código proporcionado para realizar una evaluación exhaustiva y encontrar los valores máximos y mínimos posibles.\n",
    "2.\tOptimización y Poda: Aplicar técnicas de optimización y poda para mejorar la eficiencia del algoritmo.\n",
    "3.\tProgramación Dinámica y Heurísticas: Explorar enfoques de programación dinámica y heurísticas para problemas de mayor tamaño.\n",
    "4.\tVisualización de Resultados: Visualizar los resultados y analizar patrones para obtener información adicional sobre el problema.\n"
   ]
  },
  {
   "cell_type": "code",
   "execution_count": null,
   "metadata": {},
   "outputs": [],
   "source": []
  }
 ],
 "metadata": {
  "colab": {
   "provenance": []
  },
  "kernelspec": {
   "display_name": "Python 3 (ipykernel)",
   "language": "python",
   "name": "python3"
  },
  "language_info": {
   "codemirror_mode": {
    "name": "ipython",
    "version": 3
   },
   "file_extension": ".py",
   "mimetype": "text/x-python",
   "name": "python",
   "nbconvert_exporter": "python",
   "pygments_lexer": "ipython3",
   "version": "3.11.9"
  }
 },
 "nbformat": 4,
 "nbformat_minor": 4
}
